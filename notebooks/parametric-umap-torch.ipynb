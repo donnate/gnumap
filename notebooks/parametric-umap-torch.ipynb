{
 "cells": [
  {
   "cell_type": "code",
   "execution_count": 4,
   "id": "661cb7c5",
   "metadata": {},
   "outputs": [],
   "source": [
    "import torch\n",
    "import torchvision\n",
    "from torchvision import datasets\n",
    "from torchvision.transforms import ToTensor"
   ]
  },
  {
   "cell_type": "code",
   "execution_count": 5,
   "id": "7151ed3a",
   "metadata": {},
   "outputs": [
    {
     "name": "stdout",
     "output_type": "stream",
     "text": [
      "Downloading http://yann.lecun.com/exdb/mnist/train-images-idx3-ubyte.gz\n",
      "Downloading http://yann.lecun.com/exdb/mnist/train-images-idx3-ubyte.gz to data/MNIST/raw/train-images-idx3-ubyte.gz\n"
     ]
    },
    {
     "data": {
      "application/vnd.jupyter.widget-view+json": {
       "model_id": "a4067f7b5db242938b7dbbae37a9fcb2",
       "version_major": 2,
       "version_minor": 0
      },
      "text/plain": [
       "  0%|          | 0/9912422 [00:00<?, ?it/s]"
      ]
     },
     "metadata": {},
     "output_type": "display_data"
    },
    {
     "name": "stdout",
     "output_type": "stream",
     "text": [
      "Extracting data/MNIST/raw/train-images-idx3-ubyte.gz to data/MNIST/raw\n",
      "\n",
      "Downloading http://yann.lecun.com/exdb/mnist/train-labels-idx1-ubyte.gz\n",
      "Downloading http://yann.lecun.com/exdb/mnist/train-labels-idx1-ubyte.gz to data/MNIST/raw/train-labels-idx1-ubyte.gz\n"
     ]
    },
    {
     "data": {
      "application/vnd.jupyter.widget-view+json": {
       "model_id": "72c09bcc84e248d99cd409e395f5b6b3",
       "version_major": 2,
       "version_minor": 0
      },
      "text/plain": [
       "  0%|          | 0/28881 [00:00<?, ?it/s]"
      ]
     },
     "metadata": {},
     "output_type": "display_data"
    },
    {
     "name": "stdout",
     "output_type": "stream",
     "text": [
      "Extracting data/MNIST/raw/train-labels-idx1-ubyte.gz to data/MNIST/raw\n",
      "\n",
      "Downloading http://yann.lecun.com/exdb/mnist/t10k-images-idx3-ubyte.gz\n",
      "Downloading http://yann.lecun.com/exdb/mnist/t10k-images-idx3-ubyte.gz to data/MNIST/raw/t10k-images-idx3-ubyte.gz\n"
     ]
    },
    {
     "data": {
      "application/vnd.jupyter.widget-view+json": {
       "model_id": "b2d9c07821dd48f8b10f92d225a1fd50",
       "version_major": 2,
       "version_minor": 0
      },
      "text/plain": [
       "  0%|          | 0/1648877 [00:00<?, ?it/s]"
      ]
     },
     "metadata": {},
     "output_type": "display_data"
    },
    {
     "name": "stdout",
     "output_type": "stream",
     "text": [
      "Extracting data/MNIST/raw/t10k-images-idx3-ubyte.gz to data/MNIST/raw\n",
      "\n",
      "Downloading http://yann.lecun.com/exdb/mnist/t10k-labels-idx1-ubyte.gz\n",
      "Downloading http://yann.lecun.com/exdb/mnist/t10k-labels-idx1-ubyte.gz to data/MNIST/raw/t10k-labels-idx1-ubyte.gz\n"
     ]
    },
    {
     "data": {
      "application/vnd.jupyter.widget-view+json": {
       "model_id": "51414fdda9e74c1db9f62b3ecbdff5ed",
       "version_major": 2,
       "version_minor": 0
      },
      "text/plain": [
       "  0%|          | 0/4542 [00:00<?, ?it/s]"
      ]
     },
     "metadata": {},
     "output_type": "display_data"
    },
    {
     "name": "stdout",
     "output_type": "stream",
     "text": [
      "Extracting data/MNIST/raw/t10k-labels-idx1-ubyte.gz to data/MNIST/raw\n",
      "\n"
     ]
    }
   ],
   "source": [
    "train_data = datasets.MNIST(\n",
    "    root = 'data',\n",
    "    train = True,                         \n",
    "    transform = ToTensor(), \n",
    "    download = True,            \n",
    ")\n",
    "test_data = datasets.MNIST(\n",
    "    root = 'data', \n",
    "    train = False, \n",
    "    transform = ToTensor()\n",
    ")"
   ]
  },
  {
   "cell_type": "code",
   "execution_count": 12,
   "id": "ea565ae6",
   "metadata": {},
   "outputs": [],
   "source": [
    "X = train_data.data"
   ]
  },
  {
   "cell_type": "markdown",
   "id": "1a472d9c",
   "metadata": {},
   "source": [
    "## Part 1: Building the Graph\n",
    "The first part of Parametric UMAP is shared with non-parametric UMAP, so we can use the same code. First we build a nearest-neighbors graph, using pynndescent, then we build a fuzzy simplicial complex."
   ]
  },
  {
   "cell_type": "code",
   "execution_count": 2,
   "id": "c51e747d",
   "metadata": {},
   "outputs": [],
   "source": [
    "from pynndescent import NNDescent\n",
    "import numpy as np"
   ]
  },
  {
   "cell_type": "code",
   "execution_count": 13,
   "id": "4732e3c9",
   "metadata": {},
   "outputs": [
    {
     "name": "stdout",
     "output_type": "stream",
     "text": [
      "Fri Nov 25 16:19:19 2022 Building RP forest with 17 trees\n",
      "Fri Nov 25 16:19:25 2022 NN descent for 16 iterations\n",
      "\t 1  /  16\n",
      "\t 2  /  16\n",
      "\t 3  /  16\n",
      "\t 4  /  16\n",
      "\t 5  /  16\n",
      "\tStopping threshold met -- exiting after 5 iterations\n"
     ]
    }
   ],
   "source": [
    "# number of trees in random projection forest\n",
    "n_trees = 5 + int(round((X.shape[0]) ** 0.5 / 20.0))\n",
    "# max number of nearest neighbor iters to perform\n",
    "n_iters = max(5, int(round(np.log2(X.shape[0]))))\n",
    "# distance metric\n",
    "metric=\"euclidean\"\n",
    "# number of neighbors for computing k-neighbor graph\n",
    "n_neighbors = 10\n",
    "\n",
    "# get nearest neighbors\n",
    "nnd = NNDescent(\n",
    "    X.reshape((len(X), np.product(np.shape(X)[1:]))),\n",
    "    n_neighbors=n_neighbors,\n",
    "    metric=metric,\n",
    "    n_trees=n_trees,\n",
    "    n_iters=n_iters,\n",
    "    max_candidates=60,\n",
    "    verbose=True\n",
    ")\n",
    "# get indices and distances\n",
    "knn_indices, knn_dists = nnd.neighbor_graph"
   ]
  },
  {
   "cell_type": "code",
   "execution_count": 14,
   "id": "972cdd70",
   "metadata": {},
   "outputs": [
    {
     "data": {
      "text/plain": [
       "((60000, 10), (60000, 10))"
      ]
     },
     "execution_count": 14,
     "metadata": {},
     "output_type": "execute_result"
    }
   ],
   "source": [
    "# nearest neighbors and distances for each point in the dataset\n",
    "np.shape(knn_indices), np.shape(knn_dists)"
   ]
  },
  {
   "cell_type": "markdown",
   "id": "3cf5c87e",
   "metadata": {},
   "source": [
    "### Build fuzzy simplicial  complex"
   ]
  },
  {
   "cell_type": "markdown",
   "id": "cf66e6e1",
   "metadata": {},
   "source": [
    "The `fuzzy_simplicial_set` function takes the nearest neighbor graph and computes a graph of the probabilities of an edge exists between points. "
   ]
  },
  {
   "cell_type": "markdown",
   "id": "76819c6a",
   "metadata": {},
   "source": [
    "Local, one-directional, probabilities ($P^{\\textrm{UMAP}}_{i|j}$) are computed between a point and its neighbors to determine the probability with which an edge (or simplex exists), based upon an assumption that data is uniformly distributed across a manifold in a warped dataspace. Under this assumption, a local notion of distance is set by the distance to the $k$\\textsuperscript{th} nearest neighbor and the local probability is scaled by that local notion of distance."
   ]
  },
  {
   "cell_type": "markdown",
   "id": "47a7af33",
   "metadata": {},
   "source": [
    "$$\n",
    "p_{j \\mid i}^{\\textrm{UMAP}} = \\exp( -(\\textrm{d}( \\mathbf{x}_{i},\\mathbf{x}_{j}) - \\rho_{i}) / \\sigma_{i})\n",
    "$$"
   ]
  },
  {
   "cell_type": "markdown",
   "id": "1b35a0d0",
   "metadata": {},
   "source": [
    "Where $\\rho_{i}$ is a local connectivity parameter set to the distance from $x_i$ to its nearest neighbor, and $\\sigma_{i}$ is a local connectivity parameter set to match the local distance around $x_i$ upon its $k$ nearest neighbors (where $k$ is a hyperparameter). In the UMAP package, these are calculated using `smooth_knn_dist`."
   ]
  },
  {
   "cell_type": "markdown",
   "id": "4fa8aa9a",
   "metadata": {},
   "source": [
    "After computing the one-directional edge probabilities for each datapoint, we then compute a global probability as the probability of either of the two local, one-directional, probabilities occurring:"
   ]
  },
  {
   "cell_type": "markdown",
   "id": "3976ce94",
   "metadata": {},
   "source": [
    "$$\n",
    "p_{i j}=\\left(p_{j \\mid i}+p_{i \\mid j}\\right)-p_{j \\mid i} p_{i \\mid j}\n",
    "$$"
   ]
  },
  {
   "cell_type": "code",
   "execution_count": 15,
   "id": "ef69a664",
   "metadata": {},
   "outputs": [],
   "source": [
    "from sklearn.utils import check_random_state\n",
    "from umap.umap_ import fuzzy_simplicial_set"
   ]
  },
  {
   "cell_type": "code",
   "execution_count": 16,
   "id": "a71873fc",
   "metadata": {},
   "outputs": [],
   "source": [
    "# get indices and distances\n",
    "knn_indices, knn_dists = nnd.neighbor_graph\n",
    "random_state = check_random_state(None)"
   ]
  },
  {
   "cell_type": "code",
   "execution_count": 17,
   "id": "9aca63dc",
   "metadata": {},
   "outputs": [],
   "source": [
    "# build fuzzy_simplicial_set\n",
    "umap_graph, sigmas, rhos = fuzzy_simplicial_set(\n",
    "    X = X,\n",
    "    n_neighbors = n_neighbors,\n",
    "    metric = metric,\n",
    "    random_state = random_state,\n",
    "    knn_indices= knn_indices,\n",
    "    knn_dists = knn_dists,\n",
    ")"
   ]
  },
  {
   "cell_type": "code",
   "execution_count": 24,
   "id": "763b505c",
   "metadata": {},
   "outputs": [],
   "source": [
    "from torch_geometric.utils import to_scipy_sparse_matrix, to_networkx, from_scipy_sparse_matrix\n",
    "G = from_scipy_sparse_matrix(umap_graph)"
   ]
  },
  {
   "cell_type": "code",
   "execution_count": 63,
   "id": "04b0a071",
   "metadata": {},
   "outputs": [
    {
     "data": {
      "text/plain": [
       "torch.Size([2, 803462])"
      ]
     },
     "execution_count": 63,
     "metadata": {},
     "output_type": "execute_result"
    }
   ],
   "source": [
    "G[0].shape"
   ]
  },
  {
   "cell_type": "code",
   "execution_count": 64,
   "id": "6897f9d2",
   "metadata": {},
   "outputs": [
    {
     "data": {
      "text/plain": [
       "tensor([[    0,     0,     0,  ..., 59999, 59999, 59999],\n",
       "        [ 8728, 18932, 24149,  ..., 52171, 57087, 58186]])"
      ]
     },
     "execution_count": 64,
     "metadata": {},
     "output_type": "execute_result"
    }
   ],
   "source": [
    "G[0]"
   ]
  },
  {
   "cell_type": "code",
   "execution_count": 39,
   "id": "e323805b",
   "metadata": {},
   "outputs": [
    {
     "data": {
      "text/plain": [
       "(array([ 41200., 165022., 203256.,  99584.,  68654.,  46784.,  31314.,\n",
       "         22062.,  15892., 109694.]),\n",
       " array([3.73e-43, 1.00e-01, 2.00e-01, 3.00e-01, 4.00e-01, 5.00e-01,\n",
       "        6.00e-01, 7.00e-01, 8.00e-01, 9.00e-01, 1.00e+00], dtype=float32),\n",
       " <BarContainer object of 10 artists>)"
      ]
     },
     "execution_count": 39,
     "metadata": {},
     "output_type": "execute_result"
    },
    {
     "data": {
      "image/png": "[encoded data removed]",
      "text/plain": [
       "<Figure size 432x288 with 1 Axes>"
      ]
     },
     "metadata": {
      "needs_background": "light"
     },
     "output_type": "display_data"
    }
   ],
   "source": [
    "import matplotlib.pyplot as plt\n",
    "plt.hist(G[1])"
   ]
  },
  {
   "cell_type": "markdown",
   "id": "1f9ecd96",
   "metadata": {},
   "source": [
    "## Part 2: Embedding the graph"
   ]
  },
  {
   "cell_type": "markdown",
   "id": "dc77d9ce",
   "metadata": {},
   "source": [
    "Now we learn an embedding for the graph, using a neural network. This is where Parametric UMAP differs from non-parametric UMAP. "
   ]
  },
  {
   "cell_type": "markdown",
   "id": "71b064cf",
   "metadata": {},
   "source": [
    "### Create neural network model\n",
    "We first create a neural network to perform the parametric embedding. Here, we'll use a simple convolutional neural network"
   ]
  },
  {
   "cell_type": "code",
   "execution_count": 76,
   "id": "c5bb2429",
   "metadata": {},
   "outputs": [],
   "source": [
    "n_components = 2 # number of latent dimensions\n",
    "dims = X.shape[0]"
   ]
  },
  {
   "cell_type": "code",
   "execution_count": 66,
   "id": "22edf8bb",
   "metadata": {},
   "outputs": [
    {
     "data": {
      "text/plain": [
       "torch.Size([60000, 28, 28])"
      ]
     },
     "execution_count": 66,
     "metadata": {},
     "output_type": "execute_result"
    }
   ],
   "source": [
    "    tf.keras.layers.InputLayer(input_shape=dims),\n",
    "    tf.keras.layers.Conv2D(\n",
    "        filters=64, kernel_size=3, strides=(2, 2), activation=\"relu\", padding=\"same\"\n",
    "    ),\n",
    "    tf.keras.layers.Conv2D(\n",
    "        filters=128, kernel_size=3, strides=(2, 2), activation=\"relu\", padding=\"same\"\n",
    "    ),\n",
    "    tf.keras.layers.Flatten(),\n",
    "    tf.keras.layers.Dense(units=512, activation=\"relu\"),\n",
    "    tf.keras.layers.Dense(units=512, activation=\"relu\"),\n",
    "    tf.keras.layers.Dense(units=n_components),\n",
    "])"
   ]
  },
  {
   "cell_type": "code",
   "execution_count": 77,
   "id": "8a120647",
   "metadata": {},
   "outputs": [
    {
     "data": {
      "text/plain": [
       "60000"
      ]
     },
     "execution_count": 77,
     "metadata": {},
     "output_type": "execute_result"
    }
   ],
   "source": [
    "dims"
   ]
  },
  {
   "cell_type": "code",
   "execution_count": 99,
   "id": "8b709300",
   "metadata": {},
   "outputs": [],
   "source": [
    "import torch.nn as nn\n",
    "n_components = 2 # number of latent dimensions\n",
    "dims = X.shape[1:]\n",
    "class encoder(torch.nn.Module):\n",
    "    def __init__(self, n_components):\n",
    "        super().__init__()\n",
    "        self.main = torch.nn.Sequential(\n",
    "                torch.nn.Conv2d(in_channels=1, out_channels=64, kernel_size=3, stride = 2),\n",
    "                torch.nn.ReLU(),\n",
    "                torch.nn.Conv2d(in_channels=64, out_channels=128, kernel_size=3, stride = 2),\n",
    "                torch.nn.ReLU(),\n",
    "                torch.nn.Flatten(),\n",
    "                torch.nn.Linear(128, 512),\n",
    "                torch.nn.ReLU(),\n",
    "                torch.nn.Linear(512,512),\n",
    "                torch.nn.ReLU(),\n",
    "                torch.nn.Linear(512, n_components)\n",
    "            )\n",
    "\n",
    "    def forward(self, x):\n",
    "        out = self.main(x)\n",
    "        return out"
   ]
  },
  {
   "cell_type": "code",
   "execution_count": null,
   "id": "057430b7",
   "metadata": {},
   "outputs": [],
   "source": [
    "class CNN(nn.Module):\n",
    "    def __init__(self, encoded_space_dim):\n",
    "        super().__init__()\n",
    "        \n",
    "        ### Convolutional section\n",
    "        self.encoder_cnn = nn.Sequential(\n",
    "            nn.Conv1d(1, 8, 3, stride=2, padding=1),\n",
    "            nn.ReLU(True),\n",
    "            nn.Conv1d(8, 16, 3, stride=2, padding=1),\n",
    "            nn.BatchNorm2d(16),\n",
    "            nn.ReLU(True),\n",
    "            nn.Conv1d(16, 32, 3, stride=2, padding=0),\n",
    "            nn.ReLU(True)\n",
    "        )\n",
    "        \n",
    "        ### Flatten layer\n",
    "        self.flatten = nn.Flatten(start_dim=1)\n",
    "        ### Linear section\n",
    "        self.encoder_lin = nn.Sequential(\n",
    "            nn.Linear(3 * 3 * 32, 128),\n",
    "            nn.ReLU(True),\n",
    "            nn.Linear(128, encoded_space_dim)\n",
    "        )\n",
    "        \n",
    "    def forward(self, x):\n",
    "        x = self.encoder_cnn(x)\n",
    "        x = self.flatten(x)\n",
    "        x = self.encoder_lin(x)\n",
    "        return x"
   ]
  },
  {
   "cell_type": "code",
   "execution_count": 104,
   "id": "9c205153",
   "metadata": {},
   "outputs": [
    {
     "data": {
      "text/plain": [
       "encoder(\n",
       "  (main): Sequential(\n",
       "    (0): Conv2d(1, 64, kernel_size=(3, 3), stride=(2, 2))\n",
       "    (1): ReLU()\n",
       "    (2): Conv2d(64, 128, kernel_size=(3, 3), stride=(2, 2))\n",
       "    (3): ReLU()\n",
       "    (4): Flatten(start_dim=1, end_dim=-1)\n",
       "    (5): Linear(in_features=128, out_features=512, bias=True)\n",
       "    (6): ReLU()\n",
       "    (7): Linear(in_features=512, out_features=512, bias=True)\n",
       "    (8): ReLU()\n",
       "    (9): Linear(in_features=512, out_features=2, bias=True)\n",
       "  )\n",
       ")"
      ]
     },
     "execution_count": 104,
     "metadata": {},
     "output_type": "execute_result"
    }
   ],
   "source": [
    "device = torch.device(\"cuda\") if torch.cuda.is_available() else torch.device(\"cpu\")\n",
    "model = encoder(n_components)\n",
    "model.to(device)"
   ]
  },
  {
   "cell_type": "code",
   "execution_count": 108,
   "id": "8c34fb0d",
   "metadata": {},
   "outputs": [],
   "source": [
    "sample = X[0].to(device)"
   ]
  },
  {
   "cell_type": "code",
   "execution_count": 106,
   "id": "083ef02e",
   "metadata": {},
   "outputs": [
    {
     "data": {
      "text/plain": [
       "Sequential(\n",
       "  (0): Conv2d(1, 64, kernel_size=(3, 3), stride=(2, 2))\n",
       "  (1): ReLU()\n",
       ")"
      ]
     },
     "execution_count": 106,
     "metadata": {},
     "output_type": "execute_result"
    }
   ],
   "source": [
    "layer=  torch.nn.Sequential(\n",
    "    torch.nn.Conv2d(in_channels=1, out_channels=64, kernel_size=3, stride = 2),\n",
    "    torch.nn.ReLU(),\n",
    ")\n",
    "layer.to(device)"
   ]
  },
  {
   "cell_type": "code",
   "execution_count": 110,
   "id": "e8fb8d85",
   "metadata": {},
   "outputs": [],
   "source": [
    "m = nn.Conv2d(16, 33, (3, 5), stride=(2, 1), padding=(4, 2), dilation=(3, 1))\n",
    "input = torch.randn(20, 16, 50, 100)\n",
    "output = m(input)"
   ]
  }
 ],
 "metadata": {
  "kernelspec": {
   "display_name": "Python 3 (ipykernel)",
   "language": "python",
   "name": "python3"
  },
  "language_info": {
   "codemirror_mode": {
    "name": "ipython",
    "version": 3
   },
   "file_extension": ".py",
   "mimetype": "text/x-python",
   "name": "python",
   "nbconvert_exporter": "python",
   "pygments_lexer": "ipython3",
   "version": "3.10.8"
  }
 },
 "nbformat": 4,
 "nbformat_minor": 5
}
